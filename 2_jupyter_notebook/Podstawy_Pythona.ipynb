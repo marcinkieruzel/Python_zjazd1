{
 "cells": [
  {
   "cell_type": "markdown",
   "id": "0fb1371e",
   "metadata": {},
   "source": [
    "\n",
    "\n",
    "W tym notebooku poznamy podstawy Pythona oraz koncepcje składające się na język programowania Python."
   ]
  },
  {
   "cell_type": "markdown",
   "id": "78da392a",
   "metadata": {},
   "source": [
    "## Zmienne w Pythonie"
   ]
  },
  {
   "cell_type": "code",
   "execution_count": null,
   "id": "247da56a",
   "metadata": {},
   "outputs": [],
   "source": [
    "# Tworzenie zmiennej 'num' i przypisanie jej wartości '10'\n",
    "num = 10"
   ]
  },
  {
   "cell_type": "code",
   "execution_count": null,
   "id": "c5b9858e",
   "metadata": {},
   "outputs": [],
   "source": [
    "# aby wyświetlić zawartość zmiennej 'num'\n",
    "num"
   ]
  },
  {
   "cell_type": "code",
   "execution_count": null,
   "id": "c48c2bec",
   "metadata": {},
   "outputs": [],
   "source": [
    "# Aby sprawdzić czy zmienne uwzględniają wielkość liter\n",
    "Num"
   ]
  },
  {
   "cell_type": "code",
   "execution_count": null,
   "id": "3604753a",
   "metadata": {},
   "outputs": [],
   "source": [
    "# Aby pokazać że zmienne są dynamicznie typowane [typ zmiennej może być dynamicznie zmieniany w przeciwieństwie do innych języków programowania]\n",
    "\n",
    "type(num)"
   ]
  },
  {
   "cell_type": "code",
   "execution_count": null,
   "id": "a8852c57",
   "metadata": {},
   "outputs": [],
   "source": [
    "num = 'Dziesięć'"
   ]
  },
  {
   "cell_type": "code",
   "execution_count": null,
   "id": "1d69a43f",
   "metadata": {},
   "outputs": [],
   "source": [
    "type(num)"
   ]
  },
  {
   "cell_type": "code",
   "execution_count": null,
   "id": "de8c9c76",
   "metadata": {},
   "outputs": [],
   "source": [
    "# Dodawanie dwóch liczb 110 i 2\n",
    "\n",
    "110 + 2"
   ]
  },
  {
   "cell_type": "code",
   "execution_count": null,
   "id": "271bd224",
   "metadata": {},
   "outputs": [],
   "source": [
    "# Dodawanie przy użyciu zmiennych\n",
    "\n",
    "result = 110 + 2"
   ]
  },
  {
   "cell_type": "code",
   "execution_count": null,
   "id": "640a8550",
   "metadata": {},
   "outputs": [],
   "source": [
    "result"
   ]
  },
  {
   "cell_type": "markdown",
   "id": "40dcc61f",
   "metadata": {},
   "source": [
    "**<p style=\"font-family: Arial; font-size:1.4em;color:blue;\">Ćwiczenie: Zmienne w Pythonie</p>**"
   ]
  },
  {
   "cell_type": "markdown",
   "id": "8f67f8b0",
   "metadata": {},
   "source": [
    "Najpierw utwórz zmienną o nazwie x i ustaw jej wartość na 10"
   ]
  },
  {
   "cell_type": "code",
   "execution_count": null,
   "id": "0362f9cf",
   "metadata": {},
   "outputs": [],
   "source": []
  },
  {
   "cell_type": "markdown",
   "id": "00581cb7",
   "metadata": {},
   "source": [
    "Następnie utwórz kolejną zmienną y i ustaw jej wartość na 55"
   ]
  },
  {
   "cell_type": "code",
   "execution_count": null,
   "id": "a2b4f141",
   "metadata": {},
   "outputs": [],
   "source": []
  },
  {
   "cell_type": "markdown",
   "id": "81ac2330",
   "metadata": {},
   "source": [
    "Utwórz kolejną zmienną z i ustaw jej wartość jako x + y"
   ]
  },
  {
   "cell_type": "code",
   "execution_count": null,
   "id": "de898b83",
   "metadata": {},
   "outputs": [],
   "source": []
  },
  {
   "cell_type": "markdown",
   "id": "cbe66779",
   "metadata": {},
   "source": [
    "Nadpisz x wartością z"
   ]
  },
  {
   "cell_type": "code",
   "execution_count": null,
   "id": "74c9a1d6",
   "metadata": {},
   "outputs": [],
   "source": []
  },
  {
   "cell_type": "markdown",
   "id": "b579ab7e",
   "metadata": {},
   "source": [
    "Wyświetl wartość x używając funkcji print() w Pythonie"
   ]
  },
  {
   "cell_type": "code",
   "execution_count": null,
   "id": "770831ce",
   "metadata": {},
   "outputs": [],
   "source": []
  },
  {
   "cell_type": "markdown",
   "id": "a40ebfec",
   "metadata": {},
   "source": [
    "## Typy danych w Pythonie"
   ]
  },
  {
   "cell_type": "markdown",
   "id": "aea10f84",
   "metadata": {},
   "source": [
    "### Typ danych Integer (liczba całkowita)"
   ]
  },
  {
   "cell_type": "code",
   "execution_count": null,
   "id": "9261c160",
   "metadata": {},
   "outputs": [],
   "source": [
    "# Utwórz zmienną całkowitą 'number' i ustaw jej wartość na 35\n",
    "\n",
    "number = 35"
   ]
  },
  {
   "cell_type": "code",
   "execution_count": null,
   "id": "e5d80a50",
   "metadata": {},
   "outputs": [],
   "source": [
    "# wyświetla wartość zmiennej 'number'\n",
    "print(number)"
   ]
  },
  {
   "cell_type": "code",
   "execution_count": null,
   "id": "8909d892",
   "metadata": {},
   "outputs": [],
   "source": [
    "# sprawdź typ danych zmiennej 'number'\n",
    "type(number)"
   ]
  },
  {
   "cell_type": "markdown",
   "id": "5a1f6b86",
   "metadata": {},
   "source": [
    "### Typ danych Float (liczba zmiennoprzecinkowa)"
   ]
  },
  {
   "cell_type": "code",
   "execution_count": null,
   "id": "f738e0f4",
   "metadata": {},
   "outputs": [],
   "source": [
    "# Utwórz zmienną zmiennoprzecinkową 'num_2' i ustaw jej wartość na -1.25\n",
    "\n",
    "num_2 = -1.25"
   ]
  },
  {
   "cell_type": "code",
   "execution_count": null,
   "id": "47973cc4",
   "metadata": {},
   "outputs": [],
   "source": [
    "# wyświetla wartość zmiennej 'num_2'\n",
    "print(num_2)"
   ]
  },
  {
   "cell_type": "code",
   "execution_count": null,
   "id": "67c5381d",
   "metadata": {},
   "outputs": [],
   "source": [
    "# sprawdź typ danych zmiennej 'num_2'\n",
    "type(num_2)"
   ]
  },
  {
   "cell_type": "markdown",
   "id": "b367daae",
   "metadata": {},
   "source": [
    "### Typ danych String (ciąg znaków)"
   ]
  },
  {
   "cell_type": "code",
   "execution_count": null,
   "id": "8f576485",
   "metadata": {},
   "outputs": [],
   "source": [
    "# Utwórz zmienną tekstową 'name' i ustaw jej wartość na 'Bob'\n",
    "name = 'Bob'"
   ]
  },
  {
   "cell_type": "code",
   "execution_count": null,
   "id": "62de3211",
   "metadata": {},
   "outputs": [],
   "source": [
    "# wyświetl wartość zmiennej 'name'\n",
    "print(name)"
   ]
  },
  {
   "cell_type": "code",
   "execution_count": null,
   "id": "a252d83a",
   "metadata": {},
   "outputs": [],
   "source": [
    "# sprawdź typ danych zmiennej 'name'\n",
    "type(name)"
   ]
  },
  {
   "cell_type": "code",
   "execution_count": null,
   "id": "be313911",
   "metadata": {},
   "outputs": [],
   "source": [
    "# Łączenie stringów (konkatenacja)\n",
    "\n",
    "a = \"Nauka\"\n",
    "b = \"Pythona\"\n",
    "\n",
    "# Połącz stringi a i b\n",
    "\n",
    "c = a + b  # operator '+' może być użyty do łączenia dwóch stringów\n",
    "print(c)"
   ]
  },
  {
   "cell_type": "code",
   "execution_count": null,
   "id": "c672f722",
   "metadata": {},
   "outputs": [],
   "source": [
    "# Łączenie stringów (konkatenacja)\n",
    "\n",
    "a = \"Nauka\"\n",
    "b = \"Pythona\"\n",
    "\n",
    "# Połącz stringi a i b: operator '+' może być użyty do łączenia dwóch stringów\n",
    "\n",
    "c = a + \" \" + b\n",
    "print(c)"
   ]
  },
  {
   "cell_type": "code",
   "execution_count": null,
   "id": "bfa0d280",
   "metadata": {},
   "outputs": [],
   "source": [
    "# Wycinanie stringów (slicing)\n",
    "\n",
    "a = \"Witaj w programowaniu Python\"\n",
    "\n",
    "# Pobierz słowo Python - indeksowanie znaków zaczyna się od 0\n",
    "\n",
    "print(a[23:29])"
   ]
  },
  {
   "cell_type": "code",
   "execution_count": null,
   "id": "3e1d5203",
   "metadata": {},
   "outputs": [],
   "source": [
    "# Formatowanie stringów\n",
    "\n",
    "slices = 2\n",
    "item = 'ciasto'\n",
    "price = 50\n",
    "\n",
    "text = \"Potrzebuję {} kawałków {} za {} złotych!\"\n",
    "order = text.format(slices, item, price)\n",
    "print(order)"
   ]
  },
  {
   "cell_type": "code",
   "execution_count": null,
   "id": "8252ac5e",
   "metadata": {},
   "outputs": [],
   "source": [
    "# Zapytaj użytkownika o imię\n",
    "\n",
    "name = input(\"Jak masz na imię?: \")\n",
    "\n",
    "# Podobnie, zapytaj użytkownika o wiek\n",
    "\n",
    "\n",
    "# Zapytaj użytkownika o miasto\n",
    "\n",
    "\n",
    "# Zapytaj użytkownika co lubi\n",
    "\n",
    "\n",
    "# Utwórz tekst wyjściowy używając formatowania stringów\n",
    "\n",
    "string = \"Cześć {}, masz {} lat. Mieszkasz w {} i uwielbiasz {}!\"\n",
    "\n",
    "output = string.format(name, age, city, interest)\n",
    "\n",
    "# Wyświetl wynik na ekranie"
   ]
  },
  {
   "cell_type": "markdown",
   "id": "5a2f0b30",
   "metadata": {},
   "source": [
    "### Typ danych Boolean (wartość logiczna)"
   ]
  },
  {
   "cell_type": "code",
   "execution_count": null,
   "id": "2e62b4eb",
   "metadata": {},
   "outputs": [],
   "source": [
    "# Wyrażenie porównania: (10 > 9)\n",
    "10 > 9"
   ]
  },
  {
   "cell_type": "code",
   "execution_count": null,
   "id": "88834ec1",
   "metadata": {},
   "outputs": [],
   "source": [
    "# Przypisz zmienną 'result' do przechowania wyniku powyższego wyrażenia\n",
    "result = 10 > 9"
   ]
  },
  {
   "cell_type": "code",
   "execution_count": null,
   "id": "9d050d03",
   "metadata": {},
   "outputs": [],
   "source": [
    "# wyświetl wartość zmiennej 'result'\n",
    "print(result)"
   ]
  },
  {
   "cell_type": "code",
   "execution_count": null,
   "id": "b055b638",
   "metadata": {},
   "outputs": [],
   "source": [
    "# sprawdź typ danych zmiennej 'result'\n",
    "type(result)"
   ]
  }
 ],
 "metadata": {
  "kernelspec": {
   "display_name": "Python 3",
   "language": "python",
   "name": "python3"
  },
  "language_info": {
   "codemirror_mode": {
    "name": "ipython",
    "version": 3
   },
   "file_extension": ".py",
   "mimetype": "text/x-python",
   "name": "python",
   "nbconvert_exporter": "python",
   "pygments_lexer": "ipython3",
   "version": "3.8.0"
  }
 },
 "nbformat": 4,
 "nbformat_minor": 5
}
