{
 "cells": [
  {
   "cell_type": "markdown",
   "id": "5d53d013",
   "metadata": {},
   "source": [
    "\n",
    "W tym notebooku poznamy struktury danych w Pythonie."
   ]
  },
  {
   "cell_type": "markdown",
   "id": "b9b7536d",
   "metadata": {},
   "source": [
    "## Typy Danych Kolekcji"
   ]
  },
  {
   "cell_type": "markdown",
   "id": "035825d1",
   "metadata": {},
   "source": [
    "### Lista (List)"
   ]
  },
  {
   "cell_type": "code",
   "execution_count": null,
   "id": "dfa7b20d",
   "metadata": {},
   "outputs": [],
   "source": [
    "# Utwórz heterogeniczną listę o nazwie 'list1'\n",
    "list1 = ['Jabłko', 25, -89, True, 3.56]"
   ]
  },
  {
   "cell_type": "code",
   "execution_count": null,
   "id": "193b6933",
   "metadata": {},
   "outputs": [],
   "source": [
    "# wyświetl listę\n",
    "print(list1)"
   ]
  },
  {
   "cell_type": "code",
   "execution_count": null,
   "id": "c83a9c6b",
   "metadata": {},
   "outputs": [],
   "source": [
    "# Wyciągnij 3. wartość z listy\n",
    "list1[2]"
   ]
  },
  {
   "cell_type": "code",
   "execution_count": null,
   "id": "950d960f",
   "metadata": {},
   "outputs": [],
   "source": [
    "# utwórz kolejną listę o nazwie fruits i dodaj 4 elementy do listy\n",
    "fruits = ['mango', 'jabłko', 'pomarańcza', 'banan']"
   ]
  },
  {
   "cell_type": "code",
   "execution_count": null,
   "id": "8213dd2c",
   "metadata": {},
   "outputs": [],
   "source": [
    "# dodaj nowy element wiśnia do listy\n",
    "# metoda append jest używana do dodawania elementów na końcu listy\n",
    "fruits.append('wiśnia')"
   ]
  },
  {
   "cell_type": "code",
   "execution_count": null,
   "id": "c9b54e00",
   "metadata": {},
   "outputs": [],
   "source": [
    "# aby wyświetlić elementy listy\n",
    "print(fruits)"
   ]
  },
  {
   "cell_type": "code",
   "execution_count": null,
   "id": "aac96529",
   "metadata": {},
   "outputs": [],
   "source": [
    "# zmień 4. element na ananas\n",
    "fruits[3] = 'ananas'\n",
    "print(fruits)"
   ]
  },
  {
   "cell_type": "code",
   "execution_count": null,
   "id": "8c224bc3",
   "metadata": {},
   "outputs": [],
   "source": [
    "# wstaw kolejny nowy element pomarańcza na 4. indeks\n",
    "fruits.insert(4, 'pomarańcza')"
   ]
  },
  {
   "cell_type": "code",
   "execution_count": null,
   "id": "1ff5c9d6",
   "metadata": {},
   "outputs": [],
   "source": [
    "print(fruits)"
   ]
  },
  {
   "cell_type": "markdown",
   "id": "3a42a017",
   "metadata": {},
   "source": [
    "zauważ, że pomarańcza występuje dwa razy na powyższej liście"
   ]
  },
  {
   "cell_type": "code",
   "execution_count": null,
   "id": "986e72de",
   "metadata": {},
   "outputs": [],
   "source": [
    "# usuń element 'jabłko' z listy\n",
    "fruits.pop(1)"
   ]
  },
  {
   "cell_type": "code",
   "execution_count": null,
   "id": "491c007e",
   "metadata": {},
   "outputs": [],
   "source": [
    "print(fruits)"
   ]
  },
  {
   "cell_type": "markdown",
   "id": "35462fa5",
   "metadata": {},
   "source": [
    "jabłko zostało usunięte z listy"
   ]
  },
  {
   "cell_type": "code",
   "execution_count": null,
   "id": "0d8bc937",
   "metadata": {},
   "outputs": [],
   "source": [
    "# posortuj elementy w porządku rosnącym\n",
    "fruits.sort()"
   ]
  },
  {
   "cell_type": "code",
   "execution_count": null,
   "id": "0064c6f6",
   "metadata": {},
   "outputs": [],
   "source": [
    "fruits"
   ]
  },
  {
   "cell_type": "code",
   "execution_count": null,
   "id": "f8a4e37c",
   "metadata": {},
   "outputs": [],
   "source": [
    "# posortuj elementy w porządku malejącym\n",
    "fruits.sort(reverse=True)"
   ]
  },
  {
   "cell_type": "code",
   "execution_count": null,
   "id": "41002a22",
   "metadata": {},
   "outputs": [],
   "source": [
    "fruits"
   ]
  },
  {
   "cell_type": "markdown",
   "id": "40837e87",
   "metadata": {},
   "source": [
    "### Krotka (Tuple)"
   ]
  },
  {
   "cell_type": "code",
   "execution_count": null,
   "id": "0747cca9",
   "metadata": {},
   "outputs": [],
   "source": [
    "# utwórz krotkę o nazwie 'friends' i dodaj do niej 4 elementy\n",
    "friends = ('monica', 'chandler', 'pheobe', 'rachel')"
   ]
  },
  {
   "cell_type": "code",
   "execution_count": null,
   "id": "81fd0645",
   "metadata": {},
   "outputs": [],
   "source": [
    "friends"
   ]
  },
  {
   "cell_type": "code",
   "execution_count": null,
   "id": "31a8d260",
   "metadata": {},
   "outputs": [],
   "source": [
    "# dostęp do ostatniego elementu\n",
    "friends[3]"
   ]
  },
  {
   "cell_type": "code",
   "execution_count": null,
   "id": "52b25409",
   "metadata": {},
   "outputs": [],
   "source": [
    "# dostęp do ostatniego elementu używając ujemnego indeksowania\n",
    "friends[-1]"
   ]
  },
  {
   "cell_type": "code",
   "execution_count": null,
   "id": "46b97072",
   "metadata": {},
   "outputs": [],
   "source": [
    "# dostęp do grupy elementów używając ujemnego indeksowania\n",
    "friends[-3:-1]"
   ]
  },
  {
   "cell_type": "markdown",
   "id": "ed3a578f",
   "metadata": {},
   "source": [
    "zwraca elementy od indeksu -3 (włącznie) do indeksu -1 (wyłącznie)"
   ]
  },
  {
   "cell_type": "code",
   "execution_count": null,
   "id": "e7000a22",
   "metadata": {},
   "outputs": [],
   "source": [
    "# konwertuj krotkę na listę\n",
    "y = list(friends)"
   ]
  },
  {
   "cell_type": "code",
   "execution_count": null,
   "id": "3b973991",
   "metadata": {},
   "outputs": [],
   "source": [
    "y"
   ]
  },
  {
   "cell_type": "code",
   "execution_count": null,
   "id": "10593f43",
   "metadata": {},
   "outputs": [],
   "source": [
    "y.append('ross')"
   ]
  },
  {
   "cell_type": "code",
   "execution_count": null,
   "id": "f85ee6f5",
   "metadata": {},
   "outputs": [],
   "source": [
    "y"
   ]
  },
  {
   "cell_type": "code",
   "execution_count": null,
   "id": "78ec4228",
   "metadata": {},
   "outputs": [],
   "source": [
    "# dodaj krotkę do krotki\n",
    "y = ('monica',)\n",
    "friends = friends + y"
   ]
  },
  {
   "cell_type": "code",
   "execution_count": null,
   "id": "a763ed22",
   "metadata": {},
   "outputs": [],
   "source": [
    "friends"
   ]
  },
  {
   "cell_type": "code",
   "execution_count": null,
   "id": "dcdf23f9",
   "metadata": {},
   "outputs": [],
   "source": [
    "# usuń element z krotki - konwertuj krotkę na listę\n",
    "x = list(friends)"
   ]
  },
  {
   "cell_type": "code",
   "execution_count": null,
   "id": "4275b68a",
   "metadata": {},
   "outputs": [],
   "source": [
    "x.remove('joey')"
   ]
  },
  {
   "cell_type": "code",
   "execution_count": null,
   "id": "8a7a24d1",
   "metadata": {},
   "outputs": [],
   "source": [
    "x"
   ]
  },
  {
   "cell_type": "code",
   "execution_count": null,
   "id": "a088c0ec",
   "metadata": {},
   "outputs": [],
   "source": [
    "# usuń całą krotkę\n",
    "del friends"
   ]
  },
  {
   "cell_type": "code",
   "execution_count": null,
   "id": "2cf78695",
   "metadata": {},
   "outputs": [],
   "source": [
    "friends"
   ]
  },
  {
   "cell_type": "markdown",
   "id": "2f7a65c3",
   "metadata": {},
   "source": [
    "to wywoła błąd, ponieważ krotka już nie istnieje"
   ]
  },
  {
   "cell_type": "markdown",
   "id": "f8060b0d",
   "metadata": {},
   "source": [
    "### Zbiór (Set)"
   ]
  },
  {
   "cell_type": "code",
   "execution_count": null,
   "id": "56ef46cd",
   "metadata": {},
   "outputs": [],
   "source": [
    "# utwórz zbiór o nazwie flowers zawierający 3 elementy\n",
    "flowers = {'lilia', 'róża', 'lotos'}"
   ]
  },
  {
   "cell_type": "code",
   "execution_count": null,
   "id": "3766ccdd",
   "metadata": {},
   "outputs": [],
   "source": [
    "flowers"
   ]
  },
  {
   "cell_type": "code",
   "execution_count": null,
   "id": "16e06f06",
   "metadata": {},
   "outputs": [],
   "source": [
    "# dodaj element 'jaśmin' do zbioru 'flowers'\n",
    "flowers.add('jaśmin')"
   ]
  },
  {
   "cell_type": "code",
   "execution_count": null,
   "id": "47a036ed",
   "metadata": {},
   "outputs": [],
   "source": [
    "# określ liczbę elementów w zbiorze 'flowers'\n",
    "len(flowers)"
   ]
  },
  {
   "cell_type": "code",
   "execution_count": null,
   "id": "5b070e1b",
   "metadata": {},
   "outputs": [],
   "source": [
    "# dodaj elementy z innego zbioru do 'flowers'\n",
    "other = {'tulipan'}\n",
    "flowers.update(other)"
   ]
  },
  {
   "cell_type": "code",
   "execution_count": null,
   "id": "0e0f175f",
   "metadata": {},
   "outputs": [],
   "source": [
    "flowers"
   ]
  },
  {
   "cell_type": "code",
   "execution_count": null,
   "id": "3343ee31",
   "metadata": {},
   "outputs": [],
   "source": [
    "# usuń 'jaśmin' ze zbioru 'flowers'\n",
    "flowers.remove('jaśmin')"
   ]
  },
  {
   "cell_type": "code",
   "execution_count": null,
   "id": "860b9a17",
   "metadata": {},
   "outputs": [],
   "source": [
    "flowers"
   ]
  },
  {
   "cell_type": "markdown",
   "id": "57a4fd78",
   "metadata": {},
   "source": [
    "jaśmin został usunięty ze zbioru"
   ]
  },
  {
   "cell_type": "code",
   "execution_count": null,
   "id": "4dc51982",
   "metadata": {},
   "outputs": [],
   "source": [
    "# Jeśli ponownie spróbujemy usunąć 'jaśmin' używając remove()\n",
    "flowers.remove('jaśmin')"
   ]
  },
  {
   "cell_type": "code",
   "execution_count": null,
   "id": "e6b31456",
   "metadata": {},
   "outputs": [],
   "source": [
    "# spróbujmy usunąć 'jaśmin' używając discard()\n",
    "flowers.discard('jaśmin')"
   ]
  },
  {
   "cell_type": "markdown",
   "id": "a39cd044",
   "metadata": {},
   "source": [
    "Jeśli element do usunięcia nie istnieje, remove() wywoła błąd, podczas gdy discard() nie."
   ]
  },
  {
   "cell_type": "code",
   "execution_count": null,
   "id": "15cd2891",
   "metadata": {},
   "outputs": [],
   "source": [
    "# pop() używane do usunięcia ostatniego elementu zbioru\n",
    "x = flowers.pop()"
   ]
  },
  {
   "cell_type": "markdown",
   "id": "1537d653",
   "metadata": {},
   "source": [
    "Zbiory są nieuporządkowane, więc używając metody pop(), nie wiesz który element zostanie usunięty."
   ]
  },
  {
   "cell_type": "code",
   "execution_count": null,
   "id": "baf0a99c",
   "metadata": {},
   "outputs": [],
   "source": [
    "print(x)\n",
    "print(flowers)"
   ]
  },
  {
   "cell_type": "code",
   "execution_count": null,
   "id": "99df4c17",
   "metadata": {},
   "outputs": [],
   "source": [
    "# opróżnij zbiór 'flowers'\n",
    "flowers.clear()"
   ]
  },
  {
   "cell_type": "code",
   "execution_count": null,
   "id": "1289d2cc",
   "metadata": {},
   "outputs": [],
   "source": [
    "flowers"
   ]
  },
  {
   "cell_type": "markdown",
   "id": "11483092",
   "metadata": {},
   "source": [
    "### Słownik (Dictionary)"
   ]
  },
  {
   "cell_type": "code",
   "execution_count": null,
   "id": "b2ac18e5",
   "metadata": {},
   "outputs": [],
   "source": [
    "# utwórz słownik kalendarza (pierwszych pięciu miesięcy)\n",
    "calendar = {1: 'Sty', 2: 'Lut', 3: 'Mar', 4: 'Kwi', 5: 'Maj'}"
   ]
  },
  {
   "cell_type": "code",
   "execution_count": null,
   "id": "a158a5ab",
   "metadata": {},
   "outputs": [],
   "source": [
    "calendar"
   ]
  },
  {
   "cell_type": "code",
   "execution_count": null,
   "id": "7766e2dd",
   "metadata": {},
   "outputs": [],
   "source": [
    "# dostęp do elementu słownika po nazwie klucza\n",
    "z = calendar[3]"
   ]
  },
  {
   "cell_type": "code",
   "execution_count": null,
   "id": "17ca8600",
   "metadata": {},
   "outputs": [],
   "source": [
    "z"
   ]
  },
  {
   "cell_type": "code",
   "execution_count": null,
   "id": "0ead5d6b",
   "metadata": {},
   "outputs": [],
   "source": [
    "# wyświetl wszystkie klucze w słowniku\n",
    "calendar.keys()"
   ]
  },
  {
   "cell_type": "code",
   "execution_count": null,
   "id": "9079e9ee",
   "metadata": {},
   "outputs": [],
   "source": [
    "# zmień określony element odwołując się do jego klucza\n",
    "calendar[4] = 'Kwiecień'"
   ]
  },
  {
   "cell_type": "code",
   "execution_count": null,
   "id": "6db6fd2d",
   "metadata": {},
   "outputs": [],
   "source": [
    "calendar"
   ]
  },
  {
   "cell_type": "code",
   "execution_count": null,
   "id": "36159c7c",
   "metadata": {},
   "outputs": [],
   "source": [
    "# zaktualizuj kalendarz o jeszcze jeden wpis\n",
    "calendar.update({6: 'Cze'})"
   ]
  },
  {
   "cell_type": "code",
   "execution_count": null,
   "id": "e91357fb",
   "metadata": {},
   "outputs": [],
   "source": [
    "calendar"
   ]
  },
  {
   "cell_type": "code",
   "execution_count": null,
   "id": "bd0d7238",
   "metadata": {},
   "outputs": [],
   "source": [
    "# utwórz kopię słownika\n",
    "new = calendar.copy()"
   ]
  },
  {
   "cell_type": "code",
   "execution_count": null,
   "id": "880cdfd9",
   "metadata": {},
   "outputs": [],
   "source": [
    "new"
   ]
  },
  {
   "cell_type": "markdown",
   "id": "134ceab7",
   "metadata": {},
   "source": [
    "### Program Rezerwacji Biletu do Kina\n",
    "\n",
    "W tym programie użyjemy:\n",
    "* struktur danych jak słownik, lista\n",
    "* instrukcji if i pętli while\n",
    "* rzutowania typów (string na int)"
   ]
  },
  {
   "cell_type": "code",
   "execution_count": null,
   "id": "755cbebb",
   "metadata": {},
   "outputs": [],
   "source": [
    "# utwórz słownik filmów z parą klucz: wartość jako \"Nazwa Filmu\": [kryterium wieku, liczba dostępnych biletów]\n",
    "\n",
    "movies = {\"Gdzie jest Nemo\": [5, 2], \"Vaiana\": [6, 3], \"Batman\": [18, 5], \"Król Lew\": [10, 4]}\n",
    "\n",
    "# utwórz pętlę while aby działała ciągle\n",
    "\n",
    "while True:\n",
    "    \n",
    "    # Pobierz dane wejściowe od użytkownika - który film chciałby zobaczyć - usuń spacje i przekonwertuj na title case\n",
    "    \n",
    "    \n",
    "    # Utwórz logikę warunkową używając if: jeśli określony film jest obecny w słowniku to kontynuuj\n",
    "    \n",
    "        \n",
    "        # zapytaj użytkownika o wiek\n",
    "        \n",
    "        \n",
    "        # sprawdź kwalifikowalność użytkownika pod względem wieku\n",
    "        \n",
    "            \n",
    "            # jeśli kwalifikuje się, sprawdź dostępność miejsc\n",
    "            \n",
    "            \n",
    "                # jeśli dostępne, liczba miejsc zmniejszy się o 1"
   ]
  },
  {
   "cell_type": "markdown",
   "id": "5dd84b99",
   "metadata": {},
   "source": [
    "## Moduł Random"
   ]
  },
  {
   "cell_type": "code",
   "execution_count": null,
   "id": "f1cb14ba",
   "metadata": {},
   "outputs": [],
   "source": [
    "# aby użyć modułu random\n",
    "import random"
   ]
  },
  {
   "cell_type": "code",
   "execution_count": null,
   "id": "0761169d",
   "metadata": {},
   "outputs": [],
   "source": [
    "# randrange() - Ta metoda zwraca losowo wybraną liczbę z określonego zakresu\n",
    "# Składnia: random.randrange(start, stop, step)\n",
    "\n",
    "# zwraca liczbę między 10 (włącznie) a 26 (wyłącznie), krok 1\n",
    "random.randrange(10, 26, 1)"
   ]
  },
  {
   "cell_type": "code",
   "execution_count": null,
   "id": "70c0a65e",
   "metadata": {},
   "outputs": [],
   "source": [
    "# randint() - Ta metoda zwraca liczbę całkowitą z określonego zakresu\n",
    "# Składnia: random.randint(start, stop)\n",
    "\n",
    "# zwraca liczbę między 50 a 100 (obydwie włącznie)\n",
    "random.randint(50, 100)"
   ]
  },
  {
   "cell_type": "code",
   "execution_count": null,
   "id": "db436fe3",
   "metadata": {},
   "outputs": [],
   "source": [
    "# choice() - Ta metoda zwraca losowy element z określonej sekwencji\n",
    "# Składnia: random.choice(sequence)\n",
    "\n",
    "x = ['Python', 'Program', 'Język']\n",
    "random.choice(x)"
   ]
  },
  {
   "cell_type": "code",
   "execution_count": null,
   "id": "51b011f8",
   "metadata": {},
   "outputs": [],
   "source": []
  }
 ],
 "metadata": {
  "kernelspec": {
   "display_name": "Python 3",
   "language": "python",
   "name": "python3"
  },
  "language_info": {
   "codemirror_mode": {
    "name": "ipython",
    "version": 3
   },
   "file_extension": ".py",
   "mimetype": "text/x-python",
   "name": "python",
   "nbconvert_exporter": "python",
   "pygments_lexer": "ipython3",
   "version": "3.8.0"
  }
 },
 "nbformat": 4,
 "nbformat_minor": 5
}
