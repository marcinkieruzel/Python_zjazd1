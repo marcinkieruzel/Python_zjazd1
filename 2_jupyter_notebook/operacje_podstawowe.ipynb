{
 "cells": [
  {
   "cell_type": "markdown",
   "metadata": {},
   "source": [
    "# Podstawowe operacje w Python\n",
    "\n",
    "## Operacje matematyczne"
   ]
  },
  {
   "cell_type": "code",
   "execution_count": null,
   "metadata": {},
   "outputs": [],
   "source": [
    "# Dodawanie\n",
    "wynik = 10 + 5\n",
    "print(f\"10 + 5 = {wynik}\")\n",
    "\n",
    "# Odejmowanie\n",
    "wynik = 10 - 5\n",
    "print(f\"10 - 5 = {wynik}\")\n",
    "\n",
    "# Mnożenie\n",
    "wynik = 10 * 5\n",
    "print(f\"10 * 5 = {wynik}\")\n",
    "\n",
    "# Dzielenie\n",
    "wynik = 10 / 3\n",
    "print(f\"10 / 3 = {wynik}\")\n",
    "\n",
    "# Dzielenie całkowite\n",
    "wynik = 10 // 3\n",
    "print(f\"10 // 3 = {wynik}\")\n",
    "\n",
    "# Potęgowanie\n",
    "wynik = 2 ** 3\n",
    "print(f\"2 ** 3 = {wynik}\")"
   ]
  },
  {
   "cell_type": "markdown",
   "metadata": {},
   "source": [
    "## Operacja modulo (reszta z dzielenia)"
   ]
  },
  {
   "cell_type": "code",
   "execution_count": null,
   "metadata": {},
   "outputs": [],
   "source": [
    "# Modulo - reszta z dzielenia\n",
    "wynik = 10 % 3\n",
    "print(f\"10 % 3 = {wynik}\")\n",
    "\n",
    "# Przykład praktyczny: sprawdzanie liczb parzystych\n",
    "liczba = 7\n",
    "if liczba % 2 == 0:\n",
    "    print(f\"{liczba} jest liczbą parzystą\")\n",
    "else:\n",
    "    print(f\"{liczba} jest liczbą nieparzystą\")\n",
    "\n",
    "# Przykład: co trzeci element\n",
    "for i in range(1, 11):\n",
    "    if i % 3 == 0:\n",
    "        print(f\"{i} jest podzielne przez 3\")"
   ]
  },
  {
   "cell_type": "markdown",
   "metadata": {},
   "source": [
    "## Operacje na stringach (tekstach)"
   ]
  },
  {
   "cell_type": "code",
   "execution_count": null,
   "metadata": {},
   "outputs": [],
   "source": [
    "# Łączenie stringów (konkatenacja)\n",
    "tekst1 = \"Witaj\"\n",
    "tekst2 = \"świecie\"\n",
    "polaczony = tekst1 + \" \" + tekst2\n",
    "print(polaczony)\n",
    "\n",
    "# Powtarzanie stringów\n",
    "tekst = \"Ha\" * 3\n",
    "print(tekst)\n",
    "\n",
    "# Długość stringa\n",
    "tekst = \"Python\"\n",
    "print(f\"Długość tekstu '{tekst}': {len(tekst)}\")"
   ]
  },
  {
   "cell_type": "code",
   "execution_count": null,
   "metadata": {},
   "outputs": [],
   "source": [
    "# Indeksowanie - dostęp do pojedynczych znaków\n",
    "tekst = \"Python\"\n",
    "print(f\"Pierwszy znak: {tekst[0]}\")\n",
    "print(f\"Ostatni znak: {tekst[-1]}\")\n",
    "\n",
    "# Wycinanie (slicing)\n",
    "print(f\"Pierwsze 3 znaki: {tekst[0:3]}\")\n",
    "print(f\"Od 3 znaku do końca: {tekst[3:]}\")\n",
    "print(f\"Co drugi znak: {tekst[::2]}\")"
   ]
  },
  {
   "cell_type": "code",
   "execution_count": null,
   "metadata": {},
   "outputs": [],
   "source": [
    "# Metody stringów\n",
    "tekst = \"  Witaj w Pythonie  \"\n",
    "\n",
    "# Usuwanie białych znaków\n",
    "print(f\"strip(): '{tekst.strip()}'\")\n",
    "\n",
    "# Zmiana na wielkie/małe litery\n",
    "print(f\"upper(): {tekst.upper()}\")\n",
    "print(f\"lower(): {tekst.lower()}\")\n",
    "\n",
    "# Zamiana tekstu\n",
    "print(f\"replace(): {tekst.replace('Pythonie', 'programowaniu')}\")\n",
    "\n",
    "# Podział na listę\n",
    "slowa = tekst.strip().split()\n",
    "print(f\"split(): {slowa}\")\n",
    "\n",
    "# Łączenie listy w string\n",
    "polaczony = \"-\".join(slowa)\n",
    "print(f\"join(): {polaczony}\")"
   ]
  },
  {
   "cell_type": "code",
   "execution_count": null,
   "metadata": {},
   "outputs": [],
   "source": [
    "# Formatowanie stringów\n",
    "imie = \"Jan\"\n",
    "wiek = 25\n",
    "\n",
    "# f-string (najnowszy sposób)\n",
    "print(f\"Nazywam się {imie} i mam {wiek} lat\")\n",
    "\n",
    "# format()\n",
    "print(\"Nazywam się {} i mam {} lat\".format(imie, wiek))\n",
    "\n",
    "# % operator (stary sposób)\n",
    "print(\"Nazywam się %s i mam %d lat\" % (imie, wiek))"
   ]
  },
  {
   "cell_type": "code",
   "execution_count": null,
   "metadata": {},
   "outputs": [],
   "source": [
    "# Sprawdzanie zawartości stringa\n",
    "tekst = \"Python to świetny język programowania\"\n",
    "\n",
    "print(f\"Czy zawiera 'Python': {'Python' in tekst}\")\n",
    "print(f\"Czy zaczyna się od 'Python': {tekst.startswith('Python')}\")\n",
    "print(f\"Czy kończy się na 'programowania': {tekst.endswith('programowania')}\")\n",
    "print(f\"Liczba wystąpień 'a': {tekst.count('a')}\")\n",
    "print(f\"Pozycja słowa 'świetny': {tekst.find('świetny')}\")"
   ]
  }
 ],
 "metadata": {
  "kernelspec": {
   "display_name": "Python 3",
   "language": "python",
   "name": "python3"
  },
  "language_info": {
   "codemirror_mode": {
    "name": "ipython",
    "version": 3
   },
   "file_extension": ".py",
   "mimetype": "text/x-python",
   "name": "python",
   "nbconvert_exporter": "python",
   "pygments_lexer": "ipython3",
   "version": "3.8.0"
  }
 },
 "nbformat": 4,
 "nbformat_minor": 4
}
