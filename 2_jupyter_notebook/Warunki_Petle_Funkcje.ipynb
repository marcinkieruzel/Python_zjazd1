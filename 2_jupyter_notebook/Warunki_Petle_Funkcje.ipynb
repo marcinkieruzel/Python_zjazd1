{
 "cells": [
  {
   "cell_type": "markdown",
   "id": "aff7a17f",
   "metadata": {},
   "source": [
    "\n",
    "W tym notebooku nauczymy się jak definiować i używać warunków, pętli i funkcji w Pythonie."
   ]
  },
  {
   "cell_type": "markdown",
   "id": "23c5492c",
   "metadata": {},
   "source": [
    "## Instrukcja IF"
   ]
  },
  {
   "cell_type": "code",
   "execution_count": null,
   "id": "78151ba7",
   "metadata": {},
   "outputs": [],
   "source": [
    "a = 78\n",
    "b = 99\n",
    "if b > a:\n",
    "    print(\"a jest mniejsze niż b\")"
   ]
  },
  {
   "cell_type": "code",
   "execution_count": null,
   "id": "9c856b52",
   "metadata": {},
   "outputs": [],
   "source": [
    "a = 108\n",
    "b = 99\n",
    "if b > a:\n",
    "    print(\"a jest mniejsze niż b\")\n",
    "else:\n",
    "    print(\"b jest mniejsze niż a\")"
   ]
  },
  {
   "cell_type": "markdown",
   "id": "2d26c397",
   "metadata": {},
   "source": [
    "## Pętla For"
   ]
  },
  {
   "cell_type": "code",
   "execution_count": null,
   "id": "c8721a28",
   "metadata": {},
   "outputs": [],
   "source": [
    "mylist = [\"Witaj\", \"wszystkich\", \"zapraszamy\"]  # lista słów\n",
    "\n",
    "# tworzenie pętli for i iteracja przez każde słowo na liście\n",
    "for i in mylist:\n",
    "    print(i)"
   ]
  },
  {
   "cell_type": "code",
   "execution_count": null,
   "id": "52889deb",
   "metadata": {},
   "outputs": [],
   "source": [
    "# range(start, upto)\n",
    "for i in range(1, 11):  # 1 do 10 (wyłączając 11)\n",
    "    print(i)"
   ]
  },
  {
   "cell_type": "code",
   "execution_count": null,
   "id": "ebc65924",
   "metadata": {},
   "outputs": [],
   "source": [
    "# iteracja przez string 'Python'\n",
    "for i in 'Python':\n",
    "    print(i)"
   ]
  },
  {
   "cell_type": "code",
   "execution_count": null,
   "id": "acb0b71c",
   "metadata": {},
   "outputs": [],
   "source": [
    "# Zliczanie liczby samogłosek i spółgłosek w danym stringu używając for i if else"
   ]
  },
  {
   "cell_type": "code",
   "execution_count": null,
   "id": "edbb0651",
   "metadata": {},
   "outputs": [],
   "source": [
    "# utwórz dwie zmienne o nazwie vowels i consonants i przypisz im wartość 0\n",
    "\n",
    "\n",
    "# utwórz pętlę for i iteruj po stringu 'Programowanie Python'\n",
    "\n",
    "\n",
    "    \n",
    "# utwórz drabinkę if-elif-else aby zbudować logikę liczenia samogłosek i spółgłosek\n",
    "\n",
    "    \n",
    "        \n",
    "# wyświetl końcową liczbę samogłosek i spółgłosek w danym stringu"
   ]
  },
  {
   "cell_type": "markdown",
   "id": "c6ec4c96",
   "metadata": {},
   "source": [
    "## Pętla While"
   ]
  },
  {
   "cell_type": "code",
   "execution_count": null,
   "id": "25b35821",
   "metadata": {},
   "outputs": [],
   "source": [
    "i = 1\n",
    "while(i <= 5):\n",
    "    print(i)\n",
    "    i = i + 1"
   ]
  },
  {
   "cell_type": "code",
   "execution_count": null,
   "id": "31381d2a",
   "metadata": {},
   "outputs": [],
   "source": [
    "# Program symulujący ciekawe dziecko używając pętli while"
   ]
  },
  {
   "cell_type": "code",
   "execution_count": null,
   "id": "dc1e84fa",
   "metadata": {},
   "outputs": [],
   "source": [
    "# użyj modułu random\n",
    "\n",
    "\n",
    "# utwórz listę ('questions') przykładowych pytań (3) zazwyczaj zadawanych przez dzieci\n",
    "\n",
    "questions = [\"Dlaczego niebo jest niebieskie?\\n\", \"Dlaczego słońce jest okrągłe?\\n\", \"Gdzie są wszystkie dinozaury?\\n\"]\n",
    "\n",
    "# wybierz losowe pytanie z podanej listy używając metody choice\n",
    "\n",
    "\n",
    "# zadaj wybrane pytanie używając input()\n",
    "# ale musimy zachować jednolity format odpowiedzi\n",
    "# więc przekonwertujmy tekst odpowiedzi na małe litery i usuńmy wszelkie spacje jeśli są\n",
    "\n",
    "answer = input(question).strip().lower()\n",
    "\n",
    "# utwórz pętlę while - dopóki nie pasuje do odpowiedzi \"to wszystko\"\n",
    "\n",
    "\n",
    "    \n",
    "# wyświetl okay"
   ]
  },
  {
   "cell_type": "markdown",
   "id": "d9111a55",
   "metadata": {},
   "source": [
    "## Funkcje"
   ]
  },
  {
   "cell_type": "code",
   "execution_count": null,
   "id": "b45a38ac",
   "metadata": {},
   "outputs": [],
   "source": [
    "# Zdefiniuj funkcję do dodawania dwóch liczb\n",
    "\n",
    "def add(x, y):\n",
    "    return x + y\n",
    "\n",
    "# Wywołanie funkcji\n",
    "\n",
    "z = add(5, 11)\n",
    "print(z)\n",
    "type(z)"
   ]
  },
  {
   "cell_type": "code",
   "execution_count": null,
   "id": "7914c70f",
   "metadata": {},
   "outputs": [],
   "source": [
    "# Print i return to nie to samo\n",
    "\n",
    "def add(x, y):\n",
    "    print(x + y)\n",
    "\n",
    "# Wywołanie funkcji\n",
    "\n",
    "z = add(5, 11)\n",
    "print(z)\n",
    "type(z)"
   ]
  },
  {
   "cell_type": "code",
   "execution_count": null,
   "id": "ea2b28d0",
   "metadata": {},
   "outputs": [],
   "source": [
    "# Zakres zmiennych w funkcjach\n",
    "\n",
    "x = 98  # zakres zmiennej globalnej\n",
    "\n",
    "def f1():\n",
    "    print(x)\n",
    "    \n",
    "def f2():\n",
    "    print(x)\n",
    "    \n",
    "f1()\n",
    "f2()"
   ]
  },
  {
   "cell_type": "code",
   "execution_count": null,
   "id": "b87d7a1a",
   "metadata": {},
   "outputs": [],
   "source": [
    "# Zakres zmiennych w funkcjach\n",
    "\n",
    "x = 98  # zakres zmiennej globalnej\n",
    "\n",
    "def f1():\n",
    "    x = 15  # zmienna lokalna\n",
    "    print(x)\n",
    "    \n",
    "def f2():\n",
    "    x = 30  # zmienna lokalna\n",
    "    print(x)\n",
    "    \n",
    "f1()\n",
    "f2()\n",
    "print(x)"
   ]
  },
  {
   "cell_type": "code",
   "execution_count": null,
   "id": "1ff9c06c",
   "metadata": {},
   "outputs": [],
   "source": [
    "# Zakres zmiennych w funkcjach\n",
    "\n",
    "x = 98  # zakres zmiennej globalnej\n",
    "\n",
    "def f1():\n",
    "    global x\n",
    "    x = 50\n",
    "    print(x)\n",
    "    \n",
    "def f2():\n",
    "    x = 30  # zmienna lokalna\n",
    "    print(x)\n",
    "    \n",
    "f1()\n",
    "f2()\n",
    "print(x)"
   ]
  },
  {
   "cell_type": "code",
   "execution_count": null,
   "id": "98112e23",
   "metadata": {},
   "outputs": [],
   "source": [
    "# Tworzenie funkcji bez domyślnych parametrów\n",
    "\n",
    "def intro(name, city, interest):\n",
    "    intro = 'Cześć, jestem {}, mieszkam w {} i uwielbiam {}'.format(name, city, interest)\n",
    "    return intro\n",
    "\n",
    "intro(\"Alicja\", \"Warszawa\", \"Muzyka\")\n",
    "\n",
    "intro(\"Ryan\", \"Kraków\")  # brakujący argument wywoła błąd"
   ]
  },
  {
   "cell_type": "code",
   "execution_count": null,
   "id": "1c2205a6",
   "metadata": {},
   "outputs": [],
   "source": [
    "# Tworzenie funkcji z domyślnymi parametrami\n",
    "def intro(name, city, interest=\"Muzyka\"):\n",
    "    intro = 'Cześć, jestem {}, mieszkam w {} i uwielbiam {}'.format(name, city, interest)\n",
    "    return intro\n",
    "\n",
    "intro(\"Ryan\", \"Kraków\")"
   ]
  },
  {
   "cell_type": "code",
   "execution_count": null,
   "id": "f4ca7854",
   "metadata": {},
   "outputs": [],
   "source": [
    "intro(\"Ryan\", \"Kraków\", \"Piłka nożna\")"
   ]
  },
  {
   "cell_type": "markdown",
   "id": "e55826af",
   "metadata": {},
   "source": [
    "### Prosty Program Kalkulatora\n",
    "\n",
    "* W programie kalkulatora będą dostępne 4 opcje:\n",
    "    * Dodawanie\n",
    "    * Odejmowanie\n",
    "    * Mnożenie\n",
    "    * Dzielenie\n",
    "* Pobierz dwie liczby jako dane wejściowe od użytkownika, zastosuj instrukcje warunkowe if… elif… else do wykonania wymaganej operacji\n",
    "* Użyj funkcji add(), subtract(), multiply() i divide() do obliczenia odpowiedniej operacji w kalkulatorze."
   ]
  },
  {
   "cell_type": "code",
   "execution_count": null,
   "id": "821af1d5",
   "metadata": {},
   "outputs": [],
   "source": [
    "# Prosty Program Kalkulatora\n",
    "\n",
    "# Utwórz funkcję do dodawania dwóch liczb\n",
    "def add(a, b):\n",
    "    return a + b\n",
    "\n",
    "# Utwórz funkcję do odejmowania dwóch liczb\n",
    "\n",
    "\n",
    "# Utwórz funkcję do mnożenia dwóch liczb\n",
    "\n",
    "\n",
    "# Utwórz funkcję do dzielenia dwóch liczb\n",
    "\n",
    "\n",
    "# Wyświetl listę operacji używając print\n",
    "\n",
    "print(\"Proszę wybrać operację.\")\n",
    "print(\"a. Dodaj\")\n",
    "print(\"b. Odejmij\")\n",
    "print(\"c. Pomnóż\")\n",
    "print(\"d. Podziel\")\n",
    "\n",
    "# Pobierz dane wejściowe od użytkownika na podstawie wyświetlonej listy operacji do wykonania\n",
    "    \n",
    "op = input(\"Proszę wprowadzić wybór (a/ b/ c/ d): \")\n",
    "\n",
    "# Pobierz 2 liczby jako dane wejściowe od użytkownika i przekonwertuj je na format integer\n",
    "    \n",
    "\n",
    "\n",
    "# Logika do wykonania określonej operacji używając instrukcji if- elif -else.\n",
    "# Jeśli dane wejściowe nie pasują do żadnej z 4 operacji, wyświetl \"nieprawidłowa operacja\""
   ]
  }
 ],
 "metadata": {
  "kernelspec": {
   "display_name": "Python 3",
   "language": "python",
   "name": "python3"
  },
  "language_info": {
   "codemirror_mode": {
    "name": "ipython",
    "version": 3
   },
   "file_extension": ".py",
   "mimetype": "text/x-python",
   "name": "python",
   "nbconvert_exporter": "python",
   "pygments_lexer": "ipython3",
   "version": "3.8.0"
  }
 },
 "nbformat": 4,
 "nbformat_minor": 5
}
